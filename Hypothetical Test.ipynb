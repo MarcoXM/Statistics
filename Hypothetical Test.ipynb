{
 "cells": [
  {
   "cell_type": "code",
   "execution_count": 5,
   "metadata": {},
   "outputs": [],
   "source": [
    "import pandas as pd  # import package we need\n",
    "import numpy as np\n",
    "import matplotlib.pyplot as plt\n",
    "import seaborn as sns\n",
    "from scipy import stats\n",
    "df = pd.read_csv('data.csv') \n",
    "#%config InlineBackend.figure_format = 'retina' # high digit graph"
   ]
  },
  {
   "cell_type": "code",
   "execution_count": 2,
   "metadata": {},
   "outputs": [],
   "source": [
    "df2 = df[['bmi', 'income']].dropna()\n",
    "bmi = df2.bmi\n",
    "bmi_rich = df2[df2.income == 8].bmi  # BMI of the rich\n",
    "bmi_ord = df2[df2.income != 8].bmi # BMI of the ordinary"
   ]
  },
  {
   "cell_type": "code",
   "execution_count": 3,
   "metadata": {},
   "outputs": [
    {
     "data": {
      "text/plain": [
       "28.18812531332513"
      ]
     },
     "execution_count": 3,
     "metadata": {},
     "output_type": "execute_result"
    }
   ],
   "source": [
    "mu = np.mean(bmi)  # mean of all\n",
    "mu"
   ]
  },
  {
   "cell_type": "code",
   "execution_count": 7,
   "metadata": {},
   "outputs": [
    {
     "name": "stdout",
     "output_type": "stream",
     "text": [
      "p value is 0.0000000000\n"
     ]
    }
   ],
   "source": [
    "t_stats, p_value = stats.ttest_1samp(bmi_rich, mu)# H0 we suppose that the mean of rich is as same as the mean of all\n",
    "print(\"p value is %.10f\" % (p_value/2)) "
   ]
  },
  {
   "cell_type": "code",
   "execution_count": 8,
   "metadata": {},
   "outputs": [],
   "source": [
    "# while P = 0, we can sure that it is different!"
   ]
  },
  {
   "cell_type": "code",
   "execution_count": 10,
   "metadata": {},
   "outputs": [
    {
     "name": "stdout",
     "output_type": "stream",
     "text": [
      "p value is 0.2906513576\n"
     ]
    }
   ],
   "source": [
    "t_stats, p_value = stats.ttest_1samp(bmi_rich[:500], mu)  # pick only 500 data\n",
    "print(\"p value is %.10f\" % (p_value/2))"
   ]
  },
  {
   "cell_type": "code",
   "execution_count": 11,
   "metadata": {},
   "outputs": [
    {
     "name": "stdout",
     "output_type": "stream",
     "text": [
      "p value is 0.0000660545\n"
     ]
    }
   ],
   "source": [
    "t_stats, p_value = stats.ttest_1samp(bmi_rich[:4000], mu)  # 4000\n",
    "print(\"p value is %.10f\" % (p_value/2))"
   ]
  },
  {
   "cell_type": "code",
   "execution_count": 12,
   "metadata": {},
   "outputs": [],
   "source": [
    "#it shows that the more data you have and you could ensure the outcome"
   ]
  },
  {
   "cell_type": "code",
   "execution_count": 13,
   "metadata": {},
   "outputs": [],
   "source": [
    "#Bootsrap!"
   ]
  },
  {
   "cell_type": "code",
   "execution_count": 14,
   "metadata": {},
   "outputs": [],
   "source": [
    "def bootstrap_replicate_1d(data, func):   # sampling and get the statistics answers\n",
    "    return func(np.random.choice(data, size=len(data)))  \n",
    "\n",
    "def draw_bs_reps(data, func, size=1):\n",
    "    bs_replicates = np.empty(size)  # multiple sampling\n",
    "    for i in range(size):   # \n",
    "        bs_replicates[i] = bootstrap_replicate_1d(data, func)  \n",
    "    return bs_replicates  # \n",
    "\n",
    "\n",
    "def bootstrap_pvalue_1samp(data, pop_stats, func, size=1): #calculating the P value with shifted data.\n",
    "    sample_stats = func(data)  #    \n",
    "    shift_data = data - sample_stats + pop_stats  # computing the mean values\n",
    "    bs_replicates = draw_bs_reps(shift_data, func, size) # multiple values\n",
    "    p = np.sum( bs_replicates < sample_stats) / size # getting the P-value\n",
    "    return p"
   ]
  },
  {
   "cell_type": "code",
   "execution_count": 15,
   "metadata": {},
   "outputs": [
    {
     "data": {
      "text/plain": [
       "0.0"
      ]
     },
     "execution_count": 15,
     "metadata": {},
     "output_type": "execute_result"
    }
   ],
   "source": [
    "#data = the rich's BMI, pop_stats = all people' bmi, function = np.mean, try 10000 times\n",
    "bootstrap_pvalue_1samp(bmi_rich, mu, np.mean, size=10000)"
   ]
  },
  {
   "cell_type": "code",
   "execution_count": 16,
   "metadata": {},
   "outputs": [
    {
     "data": {
      "text/plain": [
       "0.7128"
      ]
     },
     "execution_count": 16,
     "metadata": {},
     "output_type": "execute_result"
    }
   ],
   "source": [
    "#data = the first 500 rich's BMI, pop_stats = all people' bmi, function = np.mean, try 10000 times\n",
    "bootstrap_pvalue_1samp(bmi_rich[:500], mu, np.mean, size=10000)"
   ]
  },
  {
   "cell_type": "code",
   "execution_count": 17,
   "metadata": {},
   "outputs": [
    {
     "data": {
      "text/plain": [
       "0.0002"
      ]
     },
     "execution_count": 17,
     "metadata": {},
     "output_type": "execute_result"
    }
   ],
   "source": [
    "#data = the first 4000 rich's BMI, pop_stats = all people' bmi, function = np.mean, try 10000 times\n",
    "bootstrap_pvalue_1samp(bmi_rich[:4000], mu, np.mean, size=10000)"
   ]
  },
  {
   "cell_type": "code",
   "execution_count": 18,
   "metadata": {},
   "outputs": [
    {
     "name": "stdout",
     "output_type": "stream",
     "text": [
      "p value is 0.0000000000\n"
     ]
    }
   ],
   "source": [
    "# When it comes to two independent data:rich and ordin\n",
    "t_stats, p_value = stats.ttest_ind(bmi_rich, bmi_ord) # using rich and ordin as the arguements instead of rich and all\n",
    "print(\"p value is %.10f\" % (p_value/2))"
   ]
  },
  {
   "cell_type": "code",
   "execution_count": 19,
   "metadata": {},
   "outputs": [
    {
     "name": "stdout",
     "output_type": "stream",
     "text": [
      "p value is 0.1219871502\n"
     ]
    }
   ],
   "source": [
    "# When it comes to two independent data:rich and ordin but less data, like 500.\n",
    "t_stats, p_value = stats.ttest_ind(bmi_rich[:500], bmi_ord[:500]) # using rich and ordin as the arguements instead of rich and all\n",
    "print(\"p value is %.10f\" % (p_value/2))\n",
    "#the P increase and we could refuse the H0"
   ]
  },
  {
   "cell_type": "code",
   "execution_count": 20,
   "metadata": {},
   "outputs": [
    {
     "name": "stdout",
     "output_type": "stream",
     "text": [
      "p value is 0.0000846839\n"
     ]
    }
   ],
   "source": [
    "# When it comes to two independent data:rich and ordin a little more than 500, like 1000\n",
    "t_stats, p_value = stats.ttest_ind(bmi_rich[:1000], bmi_ord[:1000]) # using rich and ordin as the arguements instead of rich and all\n",
    "print(\"p value is %.10f\" % (p_value/2))\n",
    "#for this P value, we can sure that H0 is wrong."
   ]
  },
  {
   "cell_type": "code",
   "execution_count": 28,
   "metadata": {},
   "outputs": [],
   "source": [
    "def diff_of_means(data_1, data_2):  \n",
    "    diff = np.mean(data_2) - np.mean(data_1)  # computing the mean for two sets: rich and ordin\n",
    "    return diff\n",
    "\n",
    "\n",
    "def permutation_sample(data1, data2):  # generrating the new data set\n",
    "    data = np.concatenate((data1, data2))  # concatenating them\n",
    "    permuted_data = np.random.permutation(data)  # reindex\n",
    "    perm_sample_1 = permuted_data[:len(data1)]  # devide into two parts\n",
    "    perm_sample_2 = permuted_data[len(data1):]\n",
    "    return perm_sample_1, perm_sample_2\n",
    "\n",
    "\n",
    "def draw_perm_reps(data_1, data_2, func, size=1):  # multiple try suffle\n",
    "    perm_replicates = np.empty(size)\n",
    "    for i in range(size):\n",
    "        perm_sample_1, perm_sample_2 = permutation_sample(data_1, data_2)\n",
    "        perm_replicates[i] = func(perm_sample_1, perm_sample_2)\n",
    "    return perm_replicates\n",
    "\n",
    "\n",
    "def permutation_pvalue(data_1, data_2, func_diff, size=1):  # calculating the P by sampling difference of mean \n",
    "    empirical_test_stats = func_diff(data_1, data_2)\n",
    "    perm_replicates = draw_perm_reps(data_1, data_2, func_diff, size)\n",
    "    p = np.sum(perm_replicates > empirical_test_stats) / len(perm_replicates)\n",
    "    return p\n"
   ]
  },
  {
   "cell_type": "code",
   "execution_count": 22,
   "metadata": {},
   "outputs": [
    {
     "data": {
      "text/plain": [
       "0.0"
      ]
     },
     "execution_count": 22,
     "metadata": {},
     "output_type": "execute_result"
    }
   ],
   "source": [
    "#data1 = the firstrich's BMI, data2 = the BMI of ordin people, function = difference between their means, try 10000 times\n",
    "permutation_pvalue(bmi_rich, bmi_ord, diff_of_means, size=10000)"
   ]
  },
  {
   "cell_type": "code",
   "execution_count": 23,
   "metadata": {},
   "outputs": [
    {
     "data": {
      "text/plain": [
       "0.1221"
      ]
     },
     "execution_count": 23,
     "metadata": {},
     "output_type": "execute_result"
    }
   ],
   "source": [
    "# When it comes to two independent data:rich and ordin but less data, like 500.\n",
    "permutation_pvalue(bmi_rich[:500], bmi_ord[:500], diff_of_means, size=10000)"
   ]
  },
  {
   "cell_type": "code",
   "execution_count": 27,
   "metadata": {},
   "outputs": [
    {
     "data": {
      "text/plain": [
       "0.0001"
      ]
     },
     "execution_count": 27,
     "metadata": {},
     "output_type": "execute_result"
    }
   ],
   "source": [
    "# When it comes to two independent data:rich and ordin but less data, like 1000.\n",
    "permutation_pvalue(bmi_rich[:1000], bmi_ord[:1000], diff_of_means, size=10000)"
   ]
  },
  {
   "cell_type": "code",
   "execution_count": 25,
   "metadata": {},
   "outputs": [],
   "source": [
    "#with more data, we can sure that rich tends to be thin"
   ]
  },
  {
   "cell_type": "code",
   "execution_count": null,
   "metadata": {},
   "outputs": [],
   "source": []
  }
 ],
 "metadata": {
  "kernelspec": {
   "display_name": "Python 3",
   "language": "python",
   "name": "python3"
  },
  "language_info": {
   "codemirror_mode": {
    "name": "ipython",
    "version": 3
   },
   "file_extension": ".py",
   "mimetype": "text/x-python",
   "name": "python",
   "nbconvert_exporter": "python",
   "pygments_lexer": "ipython3",
   "version": "3.6.5"
  }
 },
 "nbformat": 4,
 "nbformat_minor": 2
}
